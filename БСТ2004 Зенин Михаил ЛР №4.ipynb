{
  "cells": [
    {
      "cell_type": "markdown",
      "id": "fifteen-sailing",
      "metadata": {
        "id": "fifteen-sailing"
      },
      "source": [
        "# Лабораторная работа №4\n",
        "## Выполнил студент группы БСТ2004 Зенин Михаил Витальевич"
      ]
    },
    {
      "cell_type": "markdown",
      "id": "arctic-stocks",
      "metadata": {
        "id": "arctic-stocks"
      },
      "source": [
        "Реализовать следующие структуры данных:\n",
        "  \n",
        "● <b> Стек (stack): </b>  \n",
        "Операции для стека: \n",
        "<i> инициализация, проверка на пустоту, добавление нового элемента в начало, извлечение элемента из начала;  </i>  \n",
        "  \n",
        "● <b> Дек (двусторонняя очередь, deque):  </b>  \n",
        "Операции для дека: \n",
        "<i> инициализация, проверка на пустоту, добавление нового элемента в начало, добавление нового элемента в конец, извлечение элемента из начала, извлечение элемента из конца. </i>  \n",
        "  \n",
        "<i> Разработать программу обработки данных, содержащихся в заранее подготовленном txt-файле, в соответствии с заданиями, применив указанную в задании структуру данных. Результат работы программы вывести на экран и сохранить в отдельном txt-файле. </i>"
      ]
    },
    {
      "cell_type": "code",
      "source": [
        "import random\n",
        "class LinkedNode:\n",
        "    def __init__(self, value=None):\n",
        "        self.value = value\n",
        "        self.right = None\n",
        "        self.left = None\n",
        "class Stack:\n",
        "    def __init__(self):\n",
        "        self.head = LinkedNode()\n",
        "        self.size = 0\n",
        "\n",
        "    def is_empty(self):\n",
        "        return self.size == 0\n",
        "\n",
        "    def push(self, value):\n",
        "        if self.size > 0:\n",
        "            node = LinkedNode(value)\n",
        "            node.right = self.head\n",
        "            self.head = node\n",
        "        else:\n",
        "            self.head.value = value\n",
        "        self.size += 1\n",
        "      \n",
        "    def pop(self):\n",
        "        if self.is_empty():\n",
        "            return print(\"\\nСтек пустой\")\n",
        "        remove = self.head\n",
        "        if self.size > 1:\n",
        "            self.head = remove.right\n",
        "        self.size -= 1\n",
        "        return remove.value\n",
        "    \n",
        "    def peek(self):\n",
        "        if self.is_empty():\n",
        "            return print(\"\\nСтек пустой\")\n",
        "        return self.head.value\n",
        "    \n",
        "    def __len__(self):\n",
        "        return self.size\n",
        "\n",
        "    def reverse(self):\n",
        "        current = self.head\n",
        "        prev = None\n",
        "        next = None\n",
        " \n",
        "        while current is not None:\n",
        "            next = current.right\n",
        "            current.right = prev\n",
        "            prev = current\n",
        "            current = next\n",
        "\n",
        "        self.head = prev\n",
        "class Deque:\n",
        "    def __init__(self):\n",
        "        self.head = LinkedNode()\n",
        "        self.tail = self.head\n",
        "        self.size = 0\n",
        "    \n",
        "    def is_empty(self):\n",
        "        return self.size == 0\n",
        "\n",
        "    def push_left(self, value):\n",
        "        if self.size > 0:\n",
        "            node = LinkedNode(value)\n",
        "            node.right = self.tail\n",
        "            self.tail.left = node\n",
        "            self.tail = node\n",
        "        else:\n",
        "            self.tail.value = value\n",
        "        self.size += 1\n",
        "\n",
        "    def push(self, value):\n",
        "        if self.size > 0:\n",
        "            node = LinkedNode(value)\n",
        "            node.left = self.head\n",
        "            self.head.right = node\n",
        "            self.head = node\n",
        "        else:\n",
        "            self.head.value = value\n",
        "        self.size += 1\n",
        "    \n",
        "    def pop_left(self):\n",
        "        if self.is_empty():\n",
        "            return print(\"\\nДек пустой\")\n",
        "        remove = self.tail\n",
        "        if self.size > 1:\n",
        "            self.tail = remove.right\n",
        "        self.size -= 1\n",
        "        return remove.value\n",
        "    \n",
        "    def pop(self):\n",
        "        if self.is_empty():\n",
        "            return print(\"\\nДек пустой\")\n",
        "        remove = self.head\n",
        "        if self.size > 1:\n",
        "            self.head = remove.left\n",
        "        self.size -= 1\n",
        "        return remove.value\n",
        "    \n",
        "    def peek(self):\n",
        "        if self.is_empty():\n",
        "            return print(\"\\nДек пустой\")\n",
        "        return self.head.value\n",
        "    \n",
        "    def peek_left(self):\n",
        "        if self.is_empty():\n",
        "            return print(\"\\nДек пустой\")\n",
        "        return self.tail.value\n",
        "\n",
        "    def __len__(self):\n",
        "        return self.size"
      ],
      "metadata": {
        "id": "WRrEkPsBO-I3"
      },
      "id": "WRrEkPsBO-I3",
      "execution_count": 8,
      "outputs": []
    },
    {
      "cell_type": "markdown",
      "id": "5d7edb08",
      "metadata": {
        "scrolled": true,
        "id": "5d7edb08"
      },
      "source": [
        "### Задание №1\n",
        "Отсортировать строки файла, содержащие названия книг, в алфавитном порядке с использованием двух деков."
      ]
    },
    {
      "cell_type": "code",
      "execution_count": 2,
      "id": "17702ade",
      "metadata": {
        "id": "17702ade",
        "outputId": "715e562a-b203-4042-b126-a5c49923c7dc",
        "colab": {
          "base_uri": "https://localhost:8080/"
        }
      },
      "outputs": [
        {
          "output_type": "stream",
          "name": "stdout",
          "text": [
            "Brave New World\n",
            "Dracula\n",
            "\n",
            "Mr. Bean In Town\n",
            "\n",
            "Pride and Prejudice\n",
            "\n",
            "The Million Pound Bank Note\n",
            "\n"
          ]
        }
      ],
      "source": [
        "with open('book.txt','r') as books:\n",
        "    books=open('book.txt','r',encoding=\"utf8\")\n",
        "    q1 = Deque()\n",
        "    q2 = Deque()\n",
        "    for book in books:\n",
        "        q1.push(book)\n",
        "    while not q1.is_empty():\n",
        "        x = q1.pop()\n",
        "        while not q2.is_empty() and q2.peek() < x:\n",
        "            q1.push_left(q2.pop())\n",
        "        q2.push(x)\n",
        "    while not q2.is_empty():\n",
        "        print(q2.pop())"
      ]
    },
    {
      "cell_type": "markdown",
      "id": "49fbd2a0",
      "metadata": {
        "id": "49fbd2a0"
      },
      "source": [
        "### Задание №2\n",
        "Дек содержит последовательность символов для шифровки сообщений. Дан текстовый файл, содержащий зашифрованное сообщение. Пользуясь деком, расшифровать текст. \n",
        "Известно, что при шифровке каждый символ сообщения заменялся следующим за ним в деке по часовой стрелке через один."
      ]
    },
    {
      "cell_type": "code",
      "execution_count": 25,
      "id": "81cab7a8",
      "metadata": {
        "colab": {
          "base_uri": "https://localhost:8080/"
        },
        "id": "81cab7a8",
        "outputId": "d9a310b5-1c37-4845-e7bc-9a7447c805da"
      },
      "outputs": [
        {
          "output_type": "stream",
          "name": "stdout",
          "text": [
            "['e', 'r', 't', 'y', 'q', 'w']\n",
            "Decoding... q\n",
            "Decoding... w\n",
            "Decoding... e\n",
            "Decoding... r\n",
            "Decoding... t\n",
            "Decoding... y\n"
          ]
        }
      ],
      "source": [
        "from collections import deque\n",
        "q=deque()\n",
        "b=deque()\n",
        "temp_ind=0\n",
        "with open(\"decoder.txt\") as file:\n",
        "  mes=[row.strip() for row in file]\n",
        "for i in range(len(mes)):\n",
        "  q.append(mes[i])\n",
        "print(mes)\n",
        "for i in range(len(mes)):\n",
        "  if (q.index(mes[i])>=2):\n",
        "    temp_ind = q.index(mes[i])-2\n",
        "    if (temp_ind<=len(q)//2):\n",
        "      for i in range(temp_ind):\n",
        "        b.append(q[0])\n",
        "        q.popleft()\n",
        "      print(\"Decoding...\", q[0])\n",
        "      for i in range(temp_ind):\n",
        "        q.append(b[-1])\n",
        "        b.pop()\n",
        "    else:\n",
        "      length=len(q)\n",
        "      for i in range(length-temp_ind-1):\n",
        "        b.append(q[-1])\n",
        "        q.pop()\n",
        "      print(\"Decoding...\", q[-1])\n",
        "      for i in range(length-temp_ind-1):\n",
        "        q.append(b[-1])\n",
        "        b.pop()\n",
        "  elif (q.index(mes[i])==1):\n",
        "    print(\"Decoding...\", q[-1])\n",
        "  else:\n",
        "    b.append(q[-1])\n",
        "    q.pop()\n",
        "    print(\"Decoding...\", q[-1])\n",
        "    q.append(b[-1])\n",
        "    b.pop()"
      ]
    },
    {
      "cell_type": "markdown",
      "id": "c0894f47",
      "metadata": {
        "id": "c0894f47"
      },
      "source": [
        "### Задание №3\n",
        "Даны три стержня и n дисков различного размера. Диски можно надевать на стержни, образуя из них башни. Перенести n дисков со стержня А на стержень С, сохранив их первоначальный порядок. При переносе дисков необходимо соблюдать следующие правила:\n",
        "- на каждом шаге со стержня на стержень переносить только один диск;\n",
        "- диск нельзя помещать на диск меньшего размера;\n",
        "- для промежуточного хранения можно использовать стержень В.\n",
        "Реализовать алгоритм, используя три стека вместо стержней А, В, С. Информация о дисках хранится в исходном файле."
      ]
    },
    {
      "cell_type": "code",
      "execution_count": 10,
      "id": "9e91a9d4",
      "metadata": {
        "id": "9e91a9d4",
        "colab": {
          "base_uri": "https://localhost:8080/"
        },
        "outputId": "cf1e5d8f-fcd1-4a3b-e5fa-323854237a20"
      },
      "outputs": [
        {
          "output_type": "stream",
          "name": "stdout",
          "text": [
            "1\n",
            "2\n",
            "3\n",
            "4\n"
          ]
        }
      ],
      "source": [
        "A = Stack()\n",
        "B = Stack()\n",
        "C = Stack()\n",
        "\n",
        "disks = 4\n",
        "\n",
        "for i in range(disks, 0, -1):\n",
        "    A.push(i)\n",
        "\n",
        "def move(a, b):\n",
        "    if len(a) == 0 and len(b) > 0:\n",
        "        a.push(b.pop())\n",
        "    elif len(a) > 0 and len(b) == 0:\n",
        "        b.push(a.pop())\n",
        "    elif a.peek() > b.peek():\n",
        "        a.push(b.pop())\n",
        "    else:\n",
        "        b.push(a.pop())\n",
        "\n",
        "if disks % 2 == 0:\n",
        "    while len(C) != disks:\n",
        "        move(A, B)\n",
        "        move(A, C)\n",
        "        move(B, C)\n",
        "else:\n",
        "    while len(C) != disks:\n",
        "        move(A, C)\n",
        "        move(A, B)\n",
        "        move(B, C)\n",
        "\n",
        "while not C.is_empty():\n",
        "    print(C.pop())"
      ]
    },
    {
      "cell_type": "markdown",
      "id": "e5b0be17",
      "metadata": {
        "id": "e5b0be17"
      },
      "source": [
        "### Задание №4\n",
        "Дан текстовый файл с программой на алгоритмическом языке. За один просмотр файла проверить баланс круглых скобок в тексте, используя стек."
      ]
    },
    {
      "cell_type": "code",
      "execution_count": 14,
      "id": "5b1df60a",
      "metadata": {
        "id": "5b1df60a",
        "colab": {
          "base_uri": "https://localhost:8080/"
        },
        "outputId": "07918ad3-815e-4098-e714-43de6a330543"
      },
      "outputs": [
        {
          "output_type": "stream",
          "name": "stdout",
          "text": [
            "False\n",
            "True\n"
          ]
        }
      ],
      "source": [
        "def check_brackets(string):\n",
        "    bracket_stack = Stack()\n",
        "    for i in string:\n",
        "        if i == '(':\n",
        "            bracket_stack.push(i)\n",
        "        elif i == ')':\n",
        "            if bracket_stack.is_empty():\n",
        "                return False\n",
        "            bracket_stack.pop()\n",
        "    return bracket_stack.is_empty()\n",
        "with open('br.txt','r') as bracket:\n",
        "    bracket = open('br.txt','r',encoding=\"utf8\")\n",
        "string = bracket.read()\n",
        "print(check_brackets(string))\n",
        "print(check_brackets('(()())()()()()'))"
      ]
    },
    {
      "cell_type": "markdown",
      "id": "c44cdd6b",
      "metadata": {
        "id": "c44cdd6b"
      },
      "source": [
        "### Задание №5\n",
        "Дан текстовый файл с программой на алгоритмическом языке. За один просмотр файла проверить баланс квадратных скобок в тексте, используя дек."
      ]
    },
    {
      "cell_type": "code",
      "execution_count": 15,
      "id": "36b8f400",
      "metadata": {
        "id": "36b8f400",
        "colab": {
          "base_uri": "https://localhost:8080/"
        },
        "outputId": "95261787-ae59-460f-bce5-b73d17775ad1"
      },
      "outputs": [
        {
          "output_type": "stream",
          "name": "stdout",
          "text": [
            "True\n",
            "False\n"
          ]
        }
      ],
      "source": [
        "def check_square_brackets(string):\n",
        "    bracket_stack = Deque()\n",
        "    for i in string:\n",
        "        if i == '[':\n",
        "            bracket_stack.push(i)\n",
        "        elif i == ']':\n",
        "            if bracket_stack.is_empty():\n",
        "                return False\n",
        "            bracket_stack.pop()\n",
        "    return bracket_stack.is_empty()\n",
        "with open('br.txt','r') as bracket:\n",
        "    bracket = open('br.txt','r',encoding=\"utf8\")\n",
        "string = bracket.read()\n",
        "print(check_square_brackets(string))\n",
        "print(check_square_brackets('[[][][]'))"
      ]
    },
    {
      "cell_type": "markdown",
      "id": "59d13dc7",
      "metadata": {
        "id": "59d13dc7"
      },
      "source": [
        "### Задание №6\n",
        "Дан файл из символов. Используя стек, за один просмотр файла напечатать сначала все цифры, затем все буквы, и, наконец, все остальные символы, сохраняя исходный порядок в каждой группе символов."
      ]
    },
    {
      "cell_type": "code",
      "execution_count": 16,
      "id": "297e36c2",
      "metadata": {
        "id": "297e36c2",
        "colab": {
          "base_uri": "https://localhost:8080/"
        },
        "outputId": "b6d405ec-6000-4069-eb3c-1f6711545581"
      },
      "outputs": [
        {
          "output_type": "stream",
          "name": "stdout",
          "text": [
            "123456qwerty((((())))))))))))!-=!-))))))(((())\n",
            "[][][[[]]]\n"
          ]
        }
      ],
      "source": [
        "with open('br.txt','r') as text:\n",
        "    text = open('br.txt','r',encoding=\"utf8\")\n",
        "textt = text.read()\n",
        "\n",
        "letters = Stack()\n",
        "digits = Stack()\n",
        "others = Stack()\n",
        "\n",
        "for c in textt:\n",
        "    if c.isalpha():\n",
        "        letters.push(c)\n",
        "    elif c.isdigit():\n",
        "        digits.push(c)\n",
        "    else:\n",
        "        others.push(c)\n",
        "\n",
        "new_text = ''\n",
        "\n",
        "letters.reverse()\n",
        "digits.reverse()\n",
        "others.reverse()\n",
        "\n",
        "\n",
        "while not digits.is_empty():\n",
        "    new_text += digits.pop()\n",
        "\n",
        "while not letters.is_empty():\n",
        "    new_text += letters.pop()\n",
        "\n",
        "while not others.is_empty():\n",
        "    new_text += others.pop()\n",
        "\n",
        "print(new_text)"
      ]
    },
    {
      "cell_type": "markdown",
      "id": "973f68bd",
      "metadata": {
        "id": "973f68bd"
      },
      "source": [
        "### Задание №7\n",
        "Дан файл из целых чисел. Используя дек, за один просмотр файла напечатать сначала все отрицательные числа, затем все положительные числа, сохраняя исходный порядок в каждой группе."
      ]
    },
    {
      "cell_type": "code",
      "execution_count": 17,
      "id": "c56fad66",
      "metadata": {
        "id": "c56fad66",
        "colab": {
          "base_uri": "https://localhost:8080/"
        },
        "outputId": "5dfae9b4-b3fe-49af-f554-7aa5fed95fc0"
      },
      "outputs": [
        {
          "output_type": "stream",
          "name": "stdout",
          "text": [
            "-30\n",
            "-44\n",
            "-7\n",
            "-55\n",
            "-67\n",
            "1\n",
            "23\n",
            "44\n",
            "0\n",
            "99\n"
          ]
        }
      ],
      "source": [
        "with open('number.txt','r') as bracket:\n",
        "    bracket = open('number.txt','r',encoding=\"utf8\")\n",
        "string = bracket.read().split(\" \")\n",
        "numbers = []\n",
        "for num in string:\n",
        "    numbers.append(int(num))\n",
        "deque = Deque()\n",
        "for n in numbers:\n",
        "    if n < 0:\n",
        "        deque.push_left(n)\n",
        "    else:\n",
        "        deque.push(n)\n",
        "\n",
        "while not deque.is_empty():\n",
        "    x = deque.pop_left()\n",
        "    if x < 0:\n",
        "        deque.push(x)\n",
        "    else:\n",
        "        deque.push_left(x)\n",
        "        break\n",
        "\n",
        "while not deque.is_empty():\n",
        "    x = deque.pop()\n",
        "    if x < 0:\n",
        "        print(x)\n",
        "    else:\n",
        "        deque.push(x)\n",
        "        break\n",
        "\n",
        "while not deque.is_empty():\n",
        "    print(deque.pop_left())"
      ]
    },
    {
      "cell_type": "markdown",
      "id": "b9228191",
      "metadata": {
        "id": "b9228191"
      },
      "source": [
        "### Задание №8\n",
        "Дан текстовый файл. Используя стек, сформировать новый текстовый файл, содержащий строки исходного файла, записанные в обратном порядке: первая строка становится последней, вторая – предпоследней и т.д."
      ]
    },
    {
      "cell_type": "code",
      "execution_count": 18,
      "id": "981fbdfe",
      "metadata": {
        "id": "981fbdfe",
        "colab": {
          "base_uri": "https://localhost:8080/"
        },
        "outputId": "01576dac-512a-46b0-f2fc-19f2802c35af"
      },
      "outputs": [
        {
          "output_type": "stream",
          "name": "stdout",
          "text": [
            "Dracula\n",
            "The Million Pound Bank Note\n",
            "Mr. Bean In Town\n",
            "Pride and Prejudice\n",
            "Brave New World\n",
            "\n",
            "Brave New World\n",
            "Pride and Prejudice\n",
            "Mr. Bean In Town\n",
            "The Million Pound Bank Note\n",
            "Dracula\n"
          ]
        }
      ],
      "source": [
        "with open('book.txt', 'r') as books:\n",
        "    books=open('book.txt','r', encoding='utf8')\n",
        "    stack = Stack()\n",
        "    for book in books:\n",
        "        book = book.strip()\n",
        "        print(book)\n",
        "        stack.push(book)\n",
        "    print()\n",
        "    while not stack.is_empty():\n",
        "        print(stack.pop())"
      ]
    },
    {
      "cell_type": "markdown",
      "id": "rental-jerusalem",
      "metadata": {
        "id": "rental-jerusalem"
      },
      "source": [
        "### Вывод\n"
      ]
    },
    {
      "cell_type": "markdown",
      "id": "0c2b8899",
      "metadata": {
        "id": "0c2b8899"
      },
      "source": [
        ""
      ]
    }
  ],
  "metadata": {
    "kernelspec": {
      "display_name": "Python 3 (ipykernel)",
      "language": "python",
      "name": "python3"
    },
    "language_info": {
      "codemirror_mode": {
        "name": "ipython",
        "version": 3
      },
      "file_extension": ".py",
      "mimetype": "text/x-python",
      "name": "python",
      "nbconvert_exporter": "python",
      "pygments_lexer": "ipython3",
      "version": "3.10.2"
    },
    "colab": {
      "name": "Lab4.ipynb",
      "provenance": [],
      "collapsed_sections": []
    }
  },
  "nbformat": 4,
  "nbformat_minor": 5
}